{
 "cells": [
  {
   "cell_type": "markdown",
   "id": "cc815a42",
   "metadata": {},
   "source": [
    "Assignment 11 solutions"
   ]
  },
  {
   "cell_type": "markdown",
   "id": "811cc60a",
   "metadata": {},
   "source": [
    "1. Create an assert statement that throws an AssertionError if the variable spam is a negative integer."
   ]
  },
  {
   "cell_type": "markdown",
   "id": "b7af5221",
   "metadata": {},
   "source": [
    "Ans-"
   ]
  },
  {
   "cell_type": "markdown",
   "id": "b5f250d0",
   "metadata": {},
   "source": [
    "assert spam >= 0, \"spam must not be negative\""
   ]
  },
  {
   "cell_type": "markdown",
   "id": "97012eae",
   "metadata": {},
   "source": [
    "2. Write an assert statement that triggers an AssertionError if the variables eggs and bacon contain strings that are the same as each other, even if their cases are different (that is, 'hello' and 'hello' are considered the same, and 'goodbye' and 'GOODbye' are also considered the same)."
   ]
  },
  {
   "cell_type": "markdown",
   "id": "f345889c",
   "metadata": {},
   "source": [
    "Ans-"
   ]
  },
  {
   "cell_type": "markdown",
   "id": "4f9b3ac8",
   "metadata": {},
   "source": [
    "def raise_asert(egg,bacon)\n",
    "\n",
    "egg = egg.upper()\n",
    "\n",
    "bacon= bacon.upper()\n",
    "\n",
    "assert not(egg==bacon),'egg/bcon should not be same which are sme now'"
   ]
  },
  {
   "cell_type": "markdown",
   "id": "4cbc0c6d",
   "metadata": {},
   "source": [
    "raise_assert('hello','Hello')"
   ]
  },
  {
   "cell_type": "markdown",
   "id": "87344861",
   "metadata": {},
   "source": [
    "raise_assert('goodbye','GOODbye')"
   ]
  },
  {
   "cell_type": "code",
   "execution_count": null,
   "id": "a2c38b3e",
   "metadata": {},
   "outputs": [],
   "source": [
    "3. Create an assert statement that throws an AssertionError every time."
   ]
  },
  {
   "cell_type": "markdown",
   "id": "3a55f294",
   "metadata": {},
   "source": [
    "Ans-"
   ]
  },
  {
   "cell_type": "code",
   "execution_count": 5,
   "id": "691701c6",
   "metadata": {},
   "outputs": [],
   "source": [
    "def create_assertion_error():\n",
    "    \"\"\"\n",
    "    This function creates an assert statement that throws an AssertionError every time.\n",
    "    \"\"\"\n",
    "    assert False, \"This assertion always throws an AssertionError\""
   ]
  },
  {
   "cell_type": "markdown",
   "id": "b31eb87b",
   "metadata": {},
   "source": [
    "4. What are the two lines that must be present in your software in order to call logging.debug()?"
   ]
  },
  {
   "cell_type": "markdown",
   "id": "97f73a42",
   "metadata": {},
   "source": [
    "Ans-"
   ]
  },
  {
   "cell_type": "code",
   "execution_count": 7,
   "id": "728df230",
   "metadata": {},
   "outputs": [
    {
     "name": "stdout",
     "output_type": "stream",
     "text": [
      "1. Import the logging module:\n",
      "   import logging\n",
      "\n",
      "2. Configure the logging module to show debug messages:\n",
      "   logging.basicConfig(level=logging.DEBUG)\n"
     ]
    }
   ],
   "source": [
    "def main():\n",
    "    \"\"\"\n",
    "    This function prints the two lines required to call logging.debug() in your software.\n",
    "    \"\"\"\n",
    "    print(\"1. Import the logging module:\")\n",
    "    print(\"   import logging\\n\")\n",
    "    \n",
    "    print(\"2. Configure the logging module to show debug messages:\")\n",
    "    print(\"   logging.basicConfig(level=logging.DEBUG)\")\n",
    "\n",
    "if __name__ == \"__main__\":\n",
    "    main()"
   ]
  },
  {
   "cell_type": "markdown",
   "id": "017b352e",
   "metadata": {},
   "source": [
    "5. What are the two lines that your program must have in order to have logging.debug() send a logging message to a file named programLog.txt?"
   ]
  },
  {
   "cell_type": "markdown",
   "id": "96e2e7d9",
   "metadata": {},
   "source": [
    "Ans-"
   ]
  },
  {
   "cell_type": "code",
   "execution_count": 8,
   "id": "ed7678a1",
   "metadata": {},
   "outputs": [],
   "source": [
    "def configure_logging():\n",
    "    \"\"\"\n",
    "    Configures logging to send debug messages to a file named 'programLog.txt'.\n",
    "    \"\"\"\n",
    "    import logging\n",
    "\n",
    "    # Set the logging level to DEBUG\n",
    "    logging.basicConfig(level=logging.DEBUG)\n",
    "\n",
    "    # Create a file handler and set the filename to 'programLog.txt'\n",
    "    file_handler = logging.FileHandler('programLog.txt')\n",
    "\n",
    "    # Create a formatter for the log messages\n",
    "    formatter = logging.Formatter('%(asctime)s - %(name)s - %(levelname)s - %(message)s')\n",
    "\n",
    "    # Set the formatter for the file handler\n",
    "    file_handler.setFormatter(formatter)\n",
    "\n",
    "    # Add the file handler to the logger\n",
    "    logging.getLogger().addHandler(file_handler)\n",
    "\n",
    "# Call the function to configure logging\n",
    "configure_logging()"
   ]
  },
  {
   "cell_type": "markdown",
   "id": "696e3710",
   "metadata": {},
   "source": [
    "6. What are the five levels of logging?\n"
   ]
  },
  {
   "cell_type": "markdown",
   "id": "8fe6e7cf",
   "metadata": {},
   "source": [
    "Ans-"
   ]
  },
  {
   "cell_type": "markdown",
   "id": "09bd2a1e",
   "metadata": {},
   "source": [
    "The five level of Logging provide by pythons logging mopdule are CRITICAL(50) ERROR(40) INFO(20) DEBUG(10) NOTSET(0)"
   ]
  },
  {
   "cell_type": "markdown",
   "id": "c86b9e33",
   "metadata": {},
   "source": [
    "7. What line of code would you add to your software to disable all logging messages?"
   ]
  },
  {
   "cell_type": "markdown",
   "id": "eda483ee",
   "metadata": {},
   "source": [
    "Ans-"
   ]
  },
  {
   "cell_type": "markdown",
   "id": "9caddf29",
   "metadata": {},
   "source": [
    "logging.disable= True"
   ]
  },
  {
   "cell_type": "markdown",
   "id": "9373a8cd",
   "metadata": {},
   "source": [
    "8.Why is using logging messages better than using print() to display the same message?"
   ]
  },
  {
   "cell_type": "markdown",
   "id": "83937da9",
   "metadata": {},
   "source": [
    "Ans-post devlopment of your code you can disable logging message without removing the logging function, where you need to manually remove print()\n",
    "statement, which is tedious activity ans also print is used when you want to display any particular message or help whereas logging is used to record\n",
    "all events like error info debug message timestams"
   ]
  },
  {
   "cell_type": "markdown",
   "id": "50fc37f1",
   "metadata": {},
   "source": [
    "9. What are the differences between the Step Over, Step In, and Step Out buttons in the debugger?"
   ]
  },
  {
   "cell_type": "markdown",
   "id": "657aa1e8",
   "metadata": {},
   "source": [
    "Ans-"
   ]
  },
  {
   "cell_type": "markdown",
   "id": "6f10434c",
   "metadata": {},
   "source": [
    "1 step in - step button will cause the debugger to execute the next line of code and then pause again\n",
    "\n",
    "2 step over- step over button will execute the next line of code similar to the step in button. However if the next line of code is a function call the step over button will step over the code the function\n",
    "The functions code will beexecute al full speed and the debugger will pause as soon as the function call returns\n",
    "\n",
    "3 step out - step out button will cause the debuggerv to execute lines of code at full speed unit it return from the current function"
   ]
  },
  {
   "cell_type": "markdown",
   "id": "282da561",
   "metadata": {},
   "source": [
    "10.After you click Continue, when will the debugger stop ?"
   ]
  },
  {
   "cell_type": "markdown",
   "id": "79d74e1a",
   "metadata": {},
   "source": [
    "Ans-"
   ]
  },
  {
   "cell_type": "markdown",
   "id": "4f4b32d4",
   "metadata": {},
   "source": [
    "The will cause the program to continue runing normally without pausing for debugging untill it terminates or reaches a breakpoint"
   ]
  },
  {
   "cell_type": "markdown",
   "id": "1174ff81",
   "metadata": {},
   "source": [
    "11. What is the concept of a breakpoint?"
   ]
  },
  {
   "cell_type": "markdown",
   "id": "bb25932e",
   "metadata": {},
   "source": [
    "Ans-"
   ]
  },
  {
   "cell_type": "markdown",
   "id": "8e905d46",
   "metadata": {},
   "source": [
    "Breakpoint is a setting on a line of code that causes the debugger to pause when the program execution reaches the line"
   ]
  },
  {
   "cell_type": "code",
   "execution_count": null,
   "id": "51f2f873",
   "metadata": {},
   "outputs": [],
   "source": []
  }
 ],
 "metadata": {
  "kernelspec": {
   "display_name": "Python 3 (ipykernel)",
   "language": "python",
   "name": "python3"
  },
  "language_info": {
   "codemirror_mode": {
    "name": "ipython",
    "version": 3
   },
   "file_extension": ".py",
   "mimetype": "text/x-python",
   "name": "python",
   "nbconvert_exporter": "python",
   "pygments_lexer": "ipython3",
   "version": "3.9.12"
  }
 },
 "nbformat": 4,
 "nbformat_minor": 5
}
